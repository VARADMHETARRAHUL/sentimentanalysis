{
  "nbformat": 4,
  "nbformat_minor": 0,
  "metadata": {
    "colab": {
      "provenance": [],
      "authorship_tag": "ABX9TyP0gd01O0SxBVGJYJGTVwRQ",
      "include_colab_link": true
    },
    "kernelspec": {
      "name": "python3",
      "display_name": "Python 3"
    },
    "language_info": {
      "name": "python"
    }
  },
  "cells": [
    {
      "cell_type": "markdown",
      "metadata": {
        "id": "view-in-github",
        "colab_type": "text"
      },
      "source": [
        "<a href=\"https://colab.research.google.com/github/VARADMHETARRAHUL/sentimentanalysis/blob/main/sentimentanaly.ipynb\" target=\"_parent\"><img src=\"https://colab.research.google.com/assets/colab-badge.svg\" alt=\"Open In Colab\"/></a>"
      ]
    },
    {
      "cell_type": "code",
      "execution_count": 14,
      "metadata": {
        "id": "mjz65N_vBGbl"
      },
      "outputs": [],
      "source": [
        "# Importing libraries\n",
        "import json\n",
        "import tensorflow as tf\n",
        "from tensorflow.keras.preprocessing.text import Tokenizer\n",
        "from tensorflow.keras.preprocessing.sequence import pad_sequences"
      ]
    },
    {
      "cell_type": "code",
      "source": [
        "vocab_size=10000  # Most frequent 10,000 words will be trained\n",
        "embedding_dim=16  # Each wird has 16 dimension vector\n",
        "max_length = 100  # Each input sentence will be capped/padded to 100 tokens long.\n",
        "trunc_type = 'post' # If the sentecne is too long, cut off the end\n",
        "padding_type = 'post' # If a sentence is too short, add the padding at the end\n",
        "oov_tok = \"<OOV>\"  # Special type of tokenizer\n",
        "training_size = 20000  # First 20,000 samples will be used for training\n"
      ],
      "metadata": {
        "id": "vL3iXz7FBsDi"
      },
      "execution_count": 15,
      "outputs": []
    },
    {
      "cell_type": "code",
      "source": [
        "# Downloading the dataset\n",
        "!wget --no-check-certificate \\\n",
        " https://storage.googleapis.com/learning-datasets/sarcasm.json \\\n",
        "    -O /tmp/sarcasm.json\n"
      ],
      "metadata": {
        "colab": {
          "base_uri": "https://localhost:8080/"
        },
        "id": "X-4naUkGCW_T",
        "outputId": "e1ff57bc-26c6-482e-e8a9-abb9718f35f6"
      },
      "execution_count": 16,
      "outputs": [
        {
          "output_type": "stream",
          "name": "stdout",
          "text": [
            "--2025-08-17 03:35:27--  https://storage.googleapis.com/learning-datasets/sarcasm.json\n",
            "Resolving storage.googleapis.com (storage.googleapis.com)... 142.251.16.207, 142.251.179.207, 64.233.180.207, ...\n",
            "Connecting to storage.googleapis.com (storage.googleapis.com)|142.251.16.207|:443... connected.\n",
            "HTTP request sent, awaiting response... 200 OK\n",
            "Length: 5643545 (5.4M) [application/json]\n",
            "Saving to: ‘/tmp/sarcasm.json’\n",
            "\n",
            "\r/tmp/sarcasm.json     0%[                    ]       0  --.-KB/s               \r/tmp/sarcasm.json   100%[===================>]   5.38M  --.-KB/s    in 0.03s   \n",
            "\n",
            "2025-08-17 03:35:27 (173 MB/s) - ‘/tmp/sarcasm.json’ saved [5643545/5643545]\n",
            "\n"
          ]
        }
      ]
    },
    {
      "cell_type": "code",
      "source": [
        "with open(\"/tmp/sarcasm.json\",'r') as f: # opens the downloaded JSON file\n",
        "  datastore = json.load(f)   # Parses the JSON file in Python list of dictionaries\n",
        "sentences = [] # To hold the data\n",
        "labels = []  # To hold the data\n",
        "for item in datastore:\n",
        "  sentences.append(item['headline'])  # Collects all the headline\n",
        "  labels.append(item['is_sarcastic']) # Collects all the labels"
      ],
      "metadata": {
        "id": "B-lkEt1hCkMR"
      },
      "execution_count": 25,
      "outputs": []
    },
    {
      "cell_type": "code",
      "source": [
        "training_sentences = sentences[0:training_size]  # Takes the first 20,000 headlines to train\n",
        "testing_sentences = sentences[training_size:]    # Takes the remaining headlines to test\n",
        "training_labels = labels[0:training_size]        # Takes first 20,000 labels to train\n",
        "testing_labels = labels[training_size:]          # Tkes the remaining labels to test\n"
      ],
      "metadata": {
        "id": "ecFhgb6ZDUqN"
      },
      "execution_count": 26,
      "outputs": []
    },
    {
      "cell_type": "code",
      "source": [
        "tokenizer = Tokenizer(num_words = vocab_size, oov_token=oov_tok)    # Keeps only  top 10,000 frequent words, replces unknown with OOV\n",
        "tokenizer.fit_on_texts(training_sentences)     #fit_on_texts → scans all training sentences and builds a dictionary mapping words → numbers.\n",
        "\n",
        "word_index = tokenizer.word_index  # this stores the mapping\n",
        "\n",
        "training_sequences = tokenizer.texts_to_sequences(training_sentences)   # turns sentences in a list of integers\n",
        "training_padded = pad_sequences(training_sequences, maxlen=max_length, padding= padding_type, truncating=trunc_type)  # Ensures all sequences are exactly max_length, if too short then add zeroes at the end, if too long then cut the sentence at the ebd\n",
        "\n",
        "testing_sequences = tokenizer.texts_to_sequences(testing_sentences)\n",
        "testing_padded = pad_sequences(testing_sequences, maxlen=max_length, padding=padding_type, truncating=trunc_type) # Converts your test sentences into padded sequences using the same tokenizer (important so word → index stays consistent)."
      ],
      "metadata": {
        "id": "ueMu52SjDlri"
      },
      "execution_count": 27,
      "outputs": []
    },
    {
      "cell_type": "code",
      "source": [
        "import numpy as np\n",
        "training_padded = np.array(training_padded) # Converts the padded training sequence in 2D numpy array, Shape: (20000, 100).\n",
        "training_labels = np.array(training_labels) # Converts labels (0/1 sarcasm indicators) into a NumPy array. Shape: (2000,).\n",
        "testing_padded = np.array(testing_padded)   # Converts test sequences into a numpy array. Shape: (6000+, 100).\n",
        "testing_labels = np.array(testing_labels)   # Test labels as a NumPy array. Shape: (6000+,)."
      ],
      "metadata": {
        "id": "d0OjBLWJEdFX"
      },
      "execution_count": 28,
      "outputs": []
    },
    {
      "cell_type": "code",
      "source": [
        "model = tf.keras.Sequential([\n",
        "    tf.keras.layers.Embedding(vocab_size,embedding_dim,input_length=max_length), # Input: word indices (integers from the tokenizer).Output: dense vectors of size embedding_dim (16 here).\n",
        "    # learns to represent the words in such a way that captures semantic meaning\n",
        "     tf.keras.layers.GlobalAveragePooling1D(),  # Takes average across all 100 word embeddings→reduces each sentence to a single vector of length 16. Shape: (batch_size, 100, 16) → (batch_size, 16)\n",
        "    tf.keras.layers.Dense(24, activation='relu'),\n",
        "    tf.keras.layers.Dense(1, activation='sigmoid')\n",
        "])"
      ],
      "metadata": {
        "colab": {
          "base_uri": "https://localhost:8080/"
        },
        "id": "h8xQMzVZFTai",
        "outputId": "b257fa8f-7352-4ed9-85e7-a0890d41a2fa"
      },
      "execution_count": 29,
      "outputs": [
        {
          "output_type": "stream",
          "name": "stderr",
          "text": [
            "/usr/local/lib/python3.11/dist-packages/keras/src/layers/core/embedding.py:97: UserWarning: Argument `input_length` is deprecated. Just remove it.\n",
            "  warnings.warn(\n"
          ]
        }
      ]
    },
    {
      "cell_type": "code",
      "source": [
        "model.compile(loss='binary_crossentropy',optimizer='adam',metrics=['accuracy'])"
      ],
      "metadata": {
        "id": "KZuEi7HBFv8j"
      },
      "execution_count": 30,
      "outputs": []
    },
    {
      "cell_type": "code",
      "source": [
        "model.summary()\n"
      ],
      "metadata": {
        "colab": {
          "base_uri": "https://localhost:8080/",
          "height": 273
        },
        "id": "YomDvsmTFwxl",
        "outputId": "d000dba9-2963-41c3-8348-a166c55601c5"
      },
      "execution_count": 31,
      "outputs": [
        {
          "output_type": "display_data",
          "data": {
            "text/plain": [
              "\u001b[1mModel: \"sequential_2\"\u001b[0m\n"
            ],
            "text/html": [
              "<pre style=\"white-space:pre;overflow-x:auto;line-height:normal;font-family:Menlo,'DejaVu Sans Mono',consolas,'Courier New',monospace\"><span style=\"font-weight: bold\">Model: \"sequential_2\"</span>\n",
              "</pre>\n"
            ]
          },
          "metadata": {}
        },
        {
          "output_type": "display_data",
          "data": {
            "text/plain": [
              "┏━━━━━━━━━━━━━━━━━━━━━━━━━━━━━━━━━┳━━━━━━━━━━━━━━━━━━━━━━━━┳━━━━━━━━━━━━━━━┓\n",
              "┃\u001b[1m \u001b[0m\u001b[1mLayer (type)                   \u001b[0m\u001b[1m \u001b[0m┃\u001b[1m \u001b[0m\u001b[1mOutput Shape          \u001b[0m\u001b[1m \u001b[0m┃\u001b[1m \u001b[0m\u001b[1m      Param #\u001b[0m\u001b[1m \u001b[0m┃\n",
              "┡━━━━━━━━━━━━━━━━━━━━━━━━━━━━━━━━━╇━━━━━━━━━━━━━━━━━━━━━━━━╇━━━━━━━━━━━━━━━┩\n",
              "│ embedding_2 (\u001b[38;5;33mEmbedding\u001b[0m)         │ ?                      │   \u001b[38;5;34m0\u001b[0m (unbuilt) │\n",
              "├─────────────────────────────────┼────────────────────────┼───────────────┤\n",
              "│ global_average_pooling1d_2      │ ?                      │             \u001b[38;5;34m0\u001b[0m │\n",
              "│ (\u001b[38;5;33mGlobalAveragePooling1D\u001b[0m)        │                        │               │\n",
              "├─────────────────────────────────┼────────────────────────┼───────────────┤\n",
              "│ dense_4 (\u001b[38;5;33mDense\u001b[0m)                 │ ?                      │   \u001b[38;5;34m0\u001b[0m (unbuilt) │\n",
              "├─────────────────────────────────┼────────────────────────┼───────────────┤\n",
              "│ dense_5 (\u001b[38;5;33mDense\u001b[0m)                 │ ?                      │   \u001b[38;5;34m0\u001b[0m (unbuilt) │\n",
              "└─────────────────────────────────┴────────────────────────┴───────────────┘\n"
            ],
            "text/html": [
              "<pre style=\"white-space:pre;overflow-x:auto;line-height:normal;font-family:Menlo,'DejaVu Sans Mono',consolas,'Courier New',monospace\">┏━━━━━━━━━━━━━━━━━━━━━━━━━━━━━━━━━┳━━━━━━━━━━━━━━━━━━━━━━━━┳━━━━━━━━━━━━━━━┓\n",
              "┃<span style=\"font-weight: bold\"> Layer (type)                    </span>┃<span style=\"font-weight: bold\"> Output Shape           </span>┃<span style=\"font-weight: bold\">       Param # </span>┃\n",
              "┡━━━━━━━━━━━━━━━━━━━━━━━━━━━━━━━━━╇━━━━━━━━━━━━━━━━━━━━━━━━╇━━━━━━━━━━━━━━━┩\n",
              "│ embedding_2 (<span style=\"color: #0087ff; text-decoration-color: #0087ff\">Embedding</span>)         │ ?                      │   <span style=\"color: #00af00; text-decoration-color: #00af00\">0</span> (unbuilt) │\n",
              "├─────────────────────────────────┼────────────────────────┼───────────────┤\n",
              "│ global_average_pooling1d_2      │ ?                      │             <span style=\"color: #00af00; text-decoration-color: #00af00\">0</span> │\n",
              "│ (<span style=\"color: #0087ff; text-decoration-color: #0087ff\">GlobalAveragePooling1D</span>)        │                        │               │\n",
              "├─────────────────────────────────┼────────────────────────┼───────────────┤\n",
              "│ dense_4 (<span style=\"color: #0087ff; text-decoration-color: #0087ff\">Dense</span>)                 │ ?                      │   <span style=\"color: #00af00; text-decoration-color: #00af00\">0</span> (unbuilt) │\n",
              "├─────────────────────────────────┼────────────────────────┼───────────────┤\n",
              "│ dense_5 (<span style=\"color: #0087ff; text-decoration-color: #0087ff\">Dense</span>)                 │ ?                      │   <span style=\"color: #00af00; text-decoration-color: #00af00\">0</span> (unbuilt) │\n",
              "└─────────────────────────────────┴────────────────────────┴───────────────┘\n",
              "</pre>\n"
            ]
          },
          "metadata": {}
        },
        {
          "output_type": "display_data",
          "data": {
            "text/plain": [
              "\u001b[1m Total params: \u001b[0m\u001b[38;5;34m0\u001b[0m (0.00 B)\n"
            ],
            "text/html": [
              "<pre style=\"white-space:pre;overflow-x:auto;line-height:normal;font-family:Menlo,'DejaVu Sans Mono',consolas,'Courier New',monospace\"><span style=\"font-weight: bold\"> Total params: </span><span style=\"color: #00af00; text-decoration-color: #00af00\">0</span> (0.00 B)\n",
              "</pre>\n"
            ]
          },
          "metadata": {}
        },
        {
          "output_type": "display_data",
          "data": {
            "text/plain": [
              "\u001b[1m Trainable params: \u001b[0m\u001b[38;5;34m0\u001b[0m (0.00 B)\n"
            ],
            "text/html": [
              "<pre style=\"white-space:pre;overflow-x:auto;line-height:normal;font-family:Menlo,'DejaVu Sans Mono',consolas,'Courier New',monospace\"><span style=\"font-weight: bold\"> Trainable params: </span><span style=\"color: #00af00; text-decoration-color: #00af00\">0</span> (0.00 B)\n",
              "</pre>\n"
            ]
          },
          "metadata": {}
        },
        {
          "output_type": "display_data",
          "data": {
            "text/plain": [
              "\u001b[1m Non-trainable params: \u001b[0m\u001b[38;5;34m0\u001b[0m (0.00 B)\n"
            ],
            "text/html": [
              "<pre style=\"white-space:pre;overflow-x:auto;line-height:normal;font-family:Menlo,'DejaVu Sans Mono',consolas,'Courier New',monospace\"><span style=\"font-weight: bold\"> Non-trainable params: </span><span style=\"color: #00af00; text-decoration-color: #00af00\">0</span> (0.00 B)\n",
              "</pre>\n"
            ]
          },
          "metadata": {}
        }
      ]
    },
    {
      "cell_type": "code",
      "source": [
        "num_epochs = 30\n",
        "history = model.fit(training_padded, training_labels, epochs=num_epochs, validation_data=(testing_padded, testing_labels), verbose=2)"
      ],
      "metadata": {
        "colab": {
          "base_uri": "https://localhost:8080/"
        },
        "id": "HjQMNAwJFzqw",
        "outputId": "338c9ac1-fd20-40e6-e47e-8d496ba19bca"
      },
      "execution_count": 32,
      "outputs": [
        {
          "output_type": "stream",
          "name": "stdout",
          "text": [
            "Epoch 1/30\n",
            "625/625 - 4s - 6ms/step - accuracy: 0.5653 - loss: 0.6774 - val_accuracy: 0.6488 - val_loss: 0.6458\n",
            "Epoch 2/30\n",
            "625/625 - 2s - 4ms/step - accuracy: 0.7341 - loss: 0.5453 - val_accuracy: 0.7983 - val_loss: 0.4577\n",
            "Epoch 3/30\n",
            "625/625 - 2s - 4ms/step - accuracy: 0.8232 - loss: 0.4028 - val_accuracy: 0.8268 - val_loss: 0.3980\n",
            "Epoch 4/30\n",
            "625/625 - 2s - 3ms/step - accuracy: 0.8516 - loss: 0.3459 - val_accuracy: 0.8340 - val_loss: 0.3772\n",
            "Epoch 5/30\n",
            "625/625 - 2s - 4ms/step - accuracy: 0.8700 - loss: 0.3136 - val_accuracy: 0.7916 - val_loss: 0.4389\n",
            "Epoch 6/30\n",
            "625/625 - 2s - 3ms/step - accuracy: 0.8843 - loss: 0.2787 - val_accuracy: 0.8289 - val_loss: 0.3806\n",
            "Epoch 7/30\n",
            "625/625 - 3s - 5ms/step - accuracy: 0.8903 - loss: 0.2616 - val_accuracy: 0.8277 - val_loss: 0.3866\n",
            "Epoch 8/30\n",
            "625/625 - 2s - 3ms/step - accuracy: 0.9046 - loss: 0.2357 - val_accuracy: 0.8512 - val_loss: 0.3479\n",
            "Epoch 9/30\n",
            "625/625 - 3s - 4ms/step - accuracy: 0.9118 - loss: 0.2185 - val_accuracy: 0.8086 - val_loss: 0.4412\n",
            "Epoch 10/30\n",
            "625/625 - 3s - 4ms/step - accuracy: 0.9197 - loss: 0.2007 - val_accuracy: 0.8517 - val_loss: 0.3543\n",
            "Epoch 11/30\n",
            "625/625 - 3s - 5ms/step - accuracy: 0.9275 - loss: 0.1875 - val_accuracy: 0.8535 - val_loss: 0.3592\n",
            "Epoch 12/30\n",
            "625/625 - 3s - 4ms/step - accuracy: 0.9282 - loss: 0.1806 - val_accuracy: 0.8399 - val_loss: 0.3921\n",
            "Epoch 13/30\n",
            "625/625 - 2s - 3ms/step - accuracy: 0.9334 - loss: 0.1669 - val_accuracy: 0.8362 - val_loss: 0.4121\n",
            "Epoch 14/30\n",
            "625/625 - 2s - 3ms/step - accuracy: 0.9367 - loss: 0.1610 - val_accuracy: 0.8269 - val_loss: 0.4531\n",
            "Epoch 15/30\n",
            "625/625 - 2s - 3ms/step - accuracy: 0.9384 - loss: 0.1580 - val_accuracy: 0.8477 - val_loss: 0.4114\n",
            "Epoch 16/30\n",
            "625/625 - 2s - 3ms/step - accuracy: 0.9365 - loss: 0.1606 - val_accuracy: 0.8372 - val_loss: 0.4272\n",
            "Epoch 17/30\n",
            "625/625 - 3s - 4ms/step - accuracy: 0.9424 - loss: 0.1468 - val_accuracy: 0.8501 - val_loss: 0.4067\n",
            "Epoch 18/30\n",
            "625/625 - 2s - 4ms/step - accuracy: 0.9459 - loss: 0.1406 - val_accuracy: 0.8059 - val_loss: 0.5999\n",
            "Epoch 19/30\n",
            "625/625 - 2s - 3ms/step - accuracy: 0.9474 - loss: 0.1363 - val_accuracy: 0.8267 - val_loss: 0.4915\n",
            "Epoch 20/30\n",
            "625/625 - 3s - 5ms/step - accuracy: 0.9525 - loss: 0.1258 - val_accuracy: 0.8486 - val_loss: 0.4393\n",
            "Epoch 21/30\n",
            "625/625 - 2s - 4ms/step - accuracy: 0.9517 - loss: 0.1261 - val_accuracy: 0.8055 - val_loss: 0.5706\n",
            "Epoch 22/30\n",
            "625/625 - 3s - 5ms/step - accuracy: 0.9544 - loss: 0.1218 - val_accuracy: 0.8088 - val_loss: 0.5571\n",
            "Epoch 23/30\n",
            "625/625 - 5s - 7ms/step - accuracy: 0.9588 - loss: 0.1104 - val_accuracy: 0.8250 - val_loss: 0.5398\n",
            "Epoch 24/30\n",
            "625/625 - 2s - 3ms/step - accuracy: 0.9552 - loss: 0.1175 - val_accuracy: 0.8219 - val_loss: 0.5547\n",
            "Epoch 25/30\n",
            "625/625 - 3s - 4ms/step - accuracy: 0.9598 - loss: 0.1082 - val_accuracy: 0.8392 - val_loss: 0.4980\n",
            "Epoch 26/30\n",
            "625/625 - 3s - 4ms/step - accuracy: 0.9611 - loss: 0.1047 - val_accuracy: 0.8436 - val_loss: 0.4982\n",
            "Epoch 27/30\n",
            "625/625 - 4s - 7ms/step - accuracy: 0.9625 - loss: 0.1024 - val_accuracy: 0.8384 - val_loss: 0.5187\n",
            "Epoch 28/30\n",
            "625/625 - 2s - 3ms/step - accuracy: 0.9643 - loss: 0.0963 - val_accuracy: 0.8092 - val_loss: 0.6546\n",
            "Epoch 29/30\n",
            "625/625 - 2s - 3ms/step - accuracy: 0.9592 - loss: 0.1041 - val_accuracy: 0.8350 - val_loss: 0.5375\n",
            "Epoch 30/30\n",
            "625/625 - 2s - 3ms/step - accuracy: 0.9654 - loss: 0.0930 - val_accuracy: 0.8371 - val_loss: 0.5384\n"
          ]
        }
      ]
    },
    {
      "cell_type": "code",
      "source": [
        "import matplotlib.pyplot as plt\n",
        "\n",
        "# To plot the accuracy vs validation accuracy\n",
        "def plot_graphs(history, string):\n",
        "  plt.plot(history.history[string])\n",
        "  plt.plot(history.history['val_'+string])\n",
        "  plt.xlabel(\"Epochs\")\n",
        "  plt.ylabel(string)\n",
        "  plt.legend([string, 'val_'+string])\n",
        "  plt.show()\n",
        "\n",
        "plot_graphs(history, \"accuracy\")\n",
        "plot_graphs(history, \"loss\")"
      ],
      "metadata": {
        "colab": {
          "base_uri": "https://localhost:8080/",
          "height": 883
        },
        "id": "oiNoYXPhF27n",
        "outputId": "b6d7f920-e804-4a10-fe5e-1b932ec75ad7"
      },
      "execution_count": 33,
      "outputs": [
        {
          "output_type": "display_data",
          "data": {
            "text/plain": [
              "<Figure size 640x480 with 1 Axes>"
            ],
            "image/png": "[encoded data removed]"
          },
          "metadata": {}
        },
        {
          "output_type": "display_data",
          "data": {
            "text/plain": [
              "<Figure size 640x480 with 1 Axes>"
            ],
            "image/png": "[encoded data removed]"
          },
          "metadata": {}
        }
      ]
    },
    {
      "cell_type": "code",
      "source": [
        "reverse_word_index = dict([(value, key) for (key, value) in word_index.items()])\n",
        "\n",
        "def decode_sentence(text):\n",
        "    return ' '.join([reverse_word_index.get(i, '?') for i in text])\n",
        "\n",
        "print(decode_sentence(training_padded[0]))\n",
        "print(training_sentences[2])\n",
        "print(labels[2])"
      ],
      "metadata": {
        "colab": {
          "base_uri": "https://localhost:8080/"
        },
        "id": "ALj7HtKkG1xF",
        "outputId": "50192d27-23ca-4a7f-df27-c2622dbd169f"
      },
      "execution_count": 34,
      "outputs": [
        {
          "output_type": "stream",
          "name": "stdout",
          "text": [
            "former <OOV> store clerk sues over secret 'black <OOV> for minority shoppers ? ? ? ? ? ? ? ? ? ? ? ? ? ? ? ? ? ? ? ? ? ? ? ? ? ? ? ? ? ? ? ? ? ? ? ? ? ? ? ? ? ? ? ? ? ? ? ? ? ? ? ? ? ? ? ? ? ? ? ? ? ? ? ? ? ? ? ? ? ? ? ? ? ? ? ? ? ? ? ? ? ? ? ? ? ? ? ?\n",
            "mom starting to fear son's web series closest thing she will have to grandchild\n",
            "1\n"
          ]
        }
      ]
    },
    {
      "cell_type": "code",
      "source": [
        "e = model.layers[0]\n",
        "weights = e.get_weights()[0]\n",
        "print(weights.shape) # shape: (vocab_size, embedding_dim)"
      ],
      "metadata": {
        "colab": {
          "base_uri": "https://localhost:8080/"
        },
        "id": "cJs5hZx9G5VN",
        "outputId": "19ff5c7a-cfd8-4ad5-ae17-e61c467885a9"
      },
      "execution_count": 35,
      "outputs": [
        {
          "output_type": "stream",
          "name": "stdout",
          "text": [
            "(10000, 16)\n"
          ]
        }
      ]
    },
    {
      "cell_type": "code",
      "source": [
        "import io\n",
        "\n",
        "out_v = io.open('vecs.tsv', 'w', encoding='utf-8')  # Stores embedding vectors\n",
        "out_m = io.open('meta.tsv', 'w', encoding='utf-8')  # Stores the corresponding words TSV is tab seperated values  easy for tensorboard projector to read\n",
        "for word_num in range(1, vocab_size):\n",
        "  word = reverse_word_index[word_num]\n",
        "  embeddings = weights[word_num]\n",
        "  out_m.write(word + \"\\n\")\n",
        "  out_v.write('\\t'.join([str(x) for x in embeddings]) + \"\\n\")\n",
        "out_v.close()\n",
        "out_m.close()"
      ],
      "metadata": {
        "id": "6H8O0GOvG7qw"
      },
      "execution_count": 36,
      "outputs": []
    },
    {
      "cell_type": "code",
      "source": [
        "# To download the files\n",
        "try:\n",
        "  from google.colab import files\n",
        "except ImportError:\n",
        "  pass\n",
        "else:\n",
        "  files.download('vecs.tsv')\n",
        "  files.download('meta.tsv')"
      ],
      "metadata": {
        "colab": {
          "base_uri": "https://localhost:8080/",
          "height": 17
        },
        "id": "-f8b_51-G-u0",
        "outputId": "683d54ad-9f4e-4035-bdff-961bdd7bb6e6"
      },
      "execution_count": 37,
      "outputs": [
        {
          "output_type": "display_data",
          "data": {
            "text/plain": [
              "<IPython.core.display.Javascript object>"
            ],
            "application/javascript": [
              "\n",
              "    async function download(id, filename, size) {\n",
              "      if (!google.colab.kernel.accessAllowed) {\n",
              "        return;\n",
              "      }\n",
              "      const div = document.createElement('div');\n",
              "      const label = document.createElement('label');\n",
              "      label.textContent = `Downloading \"${filename}\": `;\n",
              "      div.appendChild(label);\n",
              "      const progress = document.createElement('progress');\n",
              "      progress.max = size;\n",
              "      div.appendChild(progress);\n",
              "      document.body.appendChild(div);\n",
              "\n",
              "      const buffers = [];\n",
              "      let downloaded = 0;\n",
              "\n",
              "      const channel = await google.colab.kernel.comms.open(id);\n",
              "      // Send a message to notify the kernel that we're ready.\n",
              "      channel.send({})\n",
              "\n",
              "      for await (const message of channel.messages) {\n",
              "        // Send a message to notify the kernel that we're ready.\n",
              "        channel.send({})\n",
              "        if (message.buffers) {\n",
              "          for (const buffer of message.buffers) {\n",
              "            buffers.push(buffer);\n",
              "            downloaded += buffer.byteLength;\n",
              "            progress.value = downloaded;\n",
              "          }\n",
              "        }\n",
              "      }\n",
              "      const blob = new Blob(buffers, {type: 'application/binary'});\n",
              "      const a = document.createElement('a');\n",
              "      a.href = window.URL.createObjectURL(blob);\n",
              "      a.download = filename;\n",
              "      div.appendChild(a);\n",
              "      a.click();\n",
              "      div.remove();\n",
              "    }\n",
              "  "
            ]
          },
          "metadata": {}
        },
        {
          "output_type": "display_data",
          "data": {
            "text/plain": [
              "<IPython.core.display.Javascript object>"
            ],
            "application/javascript": [
              "download(\"download_d06a0857-0733-4f3d-b99f-8c4953471805\", \"vecs.tsv\", 1792801)"
            ]
          },
          "metadata": {}
        },
        {
          "output_type": "display_data",
          "data": {
            "text/plain": [
              "<IPython.core.display.Javascript object>"
            ],
            "application/javascript": [
              "\n",
              "    async function download(id, filename, size) {\n",
              "      if (!google.colab.kernel.accessAllowed) {\n",
              "        return;\n",
              "      }\n",
              "      const div = document.createElement('div');\n",
              "      const label = document.createElement('label');\n",
              "      label.textContent = `Downloading \"${filename}\": `;\n",
              "      div.appendChild(label);\n",
              "      const progress = document.createElement('progress');\n",
              "      progress.max = size;\n",
              "      div.appendChild(progress);\n",
              "      document.body.appendChild(div);\n",
              "\n",
              "      const buffers = [];\n",
              "      let downloaded = 0;\n",
              "\n",
              "      const channel = await google.colab.kernel.comms.open(id);\n",
              "      // Send a message to notify the kernel that we're ready.\n",
              "      channel.send({})\n",
              "\n",
              "      for await (const message of channel.messages) {\n",
              "        // Send a message to notify the kernel that we're ready.\n",
              "        channel.send({})\n",
              "        if (message.buffers) {\n",
              "          for (const buffer of message.buffers) {\n",
              "            buffers.push(buffer);\n",
              "            downloaded += buffer.byteLength;\n",
              "            progress.value = downloaded;\n",
              "          }\n",
              "        }\n",
              "      }\n",
              "      const blob = new Blob(buffers, {type: 'application/binary'});\n",
              "      const a = document.createElement('a');\n",
              "      a.href = window.URL.createObjectURL(blob);\n",
              "      a.download = filename;\n",
              "      div.appendChild(a);\n",
              "      a.click();\n",
              "      div.remove();\n",
              "    }\n",
              "  "
            ]
          },
          "metadata": {}
        },
        {
          "output_type": "display_data",
          "data": {
            "text/plain": [
              "<IPython.core.display.Javascript object>"
            ],
            "application/javascript": [
              "download(\"download_d9726abb-ef4c-45b8-bb60-f4b6cd7c7bfb\", \"meta.tsv\", 75974)"
            ]
          },
          "metadata": {}
        }
      ]
    },
    {
      "cell_type": "code",
      "source": [
        "# This is for testing\n",
        "sentence = [\"granny starting to fear spiders in the garden might be real\", \"game of thrones season finale showing this sunday night\"]\n",
        "sequences = tokenizer.texts_to_sequences(sentence)\n",
        "padded = pad_sequences(sequences, maxlen=max_length, padding=padding_type, truncating=trunc_type)\n",
        "print(model.predict(padded))"
      ],
      "metadata": {
        "colab": {
          "base_uri": "https://localhost:8080/"
        },
        "id": "UwGNEXkXHBjk",
        "outputId": "2484bebf-b607-48d8-91af-5b5a923492c9"
      },
      "execution_count": 38,
      "outputs": [
        {
          "output_type": "stream",
          "name": "stdout",
          "text": [
            "\u001b[1m1/1\u001b[0m \u001b[32m━━━━━━━━━━━━━━━━━━━━\u001b[0m\u001b[37m\u001b[0m \u001b[1m0s\u001b[0m 128ms/step\n",
            "[[0.8040626 ]\n",
            " [0.01104587]]\n"
          ]
        }
      ]
    },
    {
      "cell_type": "code",
      "source": [],
      "metadata": {
        "id": "W50UaCP0HFjk"
      },
      "execution_count": null,
      "outputs": []
    }
  ]
}